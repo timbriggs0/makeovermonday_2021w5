{
 "cells": [
  {
   "cell_type": "code",
   "execution_count": 50,
   "metadata": {},
   "outputs": [],
   "source": [
    "import pandas as pd\n",
    "import matplotlib.pyplot as plt\n",
    "import jedi"
   ]
  },
  {
   "cell_type": "code",
   "execution_count": 51,
   "metadata": {},
   "outputs": [
    {
     "data": {
      "text/html": [
       "<div>\n",
       "<style scoped>\n",
       "    .dataframe tbody tr th:only-of-type {\n",
       "        vertical-align: middle;\n",
       "    }\n",
       "\n",
       "    .dataframe tbody tr th {\n",
       "        vertical-align: top;\n",
       "    }\n",
       "\n",
       "    .dataframe thead th {\n",
       "        text-align: right;\n",
       "    }\n",
       "</style>\n",
       "<table border=\"1\" class=\"dataframe\">\n",
       "  <thead>\n",
       "    <tr style=\"text-align: right;\">\n",
       "      <th></th>\n",
       "      <th>year</th>\n",
       "      <th>area</th>\n",
       "      <th>variable</th>\n",
       "      <th>generation_TWh</th>\n",
       "      <th>share_of_production_percent</th>\n",
       "      <th>change_on_last_year_percent</th>\n",
       "      <th>change_on_last_year_TWh</th>\n",
       "    </tr>\n",
       "  </thead>\n",
       "  <tbody>\n",
       "    <tr>\n",
       "      <th>0</th>\n",
       "      <td>2000</td>\n",
       "      <td>Austria</td>\n",
       "      <td>Fossil</td>\n",
       "      <td>16.418859</td>\n",
       "      <td>27.432215</td>\n",
       "      <td>NaN</td>\n",
       "      <td>NaN</td>\n",
       "    </tr>\n",
       "    <tr>\n",
       "      <th>1</th>\n",
       "      <td>2000</td>\n",
       "      <td>Austria</td>\n",
       "      <td>Coal</td>\n",
       "      <td>5.727000</td>\n",
       "      <td>9.568527</td>\n",
       "      <td>NaN</td>\n",
       "      <td>NaN</td>\n",
       "    </tr>\n",
       "    <tr>\n",
       "      <th>2</th>\n",
       "      <td>2000</td>\n",
       "      <td>Austria</td>\n",
       "      <td>Hard Coal</td>\n",
       "      <td>4.435000</td>\n",
       "      <td>7.409886</td>\n",
       "      <td>NaN</td>\n",
       "      <td>NaN</td>\n",
       "    </tr>\n",
       "    <tr>\n",
       "      <th>3</th>\n",
       "      <td>2000</td>\n",
       "      <td>Austria</td>\n",
       "      <td>Lignite</td>\n",
       "      <td>1.292000</td>\n",
       "      <td>2.158641</td>\n",
       "      <td>NaN</td>\n",
       "      <td>NaN</td>\n",
       "    </tr>\n",
       "    <tr>\n",
       "      <th>4</th>\n",
       "      <td>2000</td>\n",
       "      <td>Austria</td>\n",
       "      <td>Gas</td>\n",
       "      <td>7.851000</td>\n",
       "      <td>13.117252</td>\n",
       "      <td>NaN</td>\n",
       "      <td>NaN</td>\n",
       "    </tr>\n",
       "  </tbody>\n",
       "</table>\n",
       "</div>"
      ],
      "text/plain": [
       "   year     area   variable  generation_TWh  share_of_production_percent  \\\n",
       "0  2000  Austria     Fossil       16.418859                    27.432215   \n",
       "1  2000  Austria       Coal        5.727000                     9.568527   \n",
       "2  2000  Austria  Hard Coal        4.435000                     7.409886   \n",
       "3  2000  Austria    Lignite        1.292000                     2.158641   \n",
       "4  2000  Austria        Gas        7.851000                    13.117252   \n",
       "\n",
       "   change_on_last_year_percent  change_on_last_year_TWh  \n",
       "0                          NaN                      NaN  \n",
       "1                          NaN                      NaN  \n",
       "2                          NaN                      NaN  \n",
       "3                          NaN                      NaN  \n",
       "4                          NaN                      NaN  "
      ]
     },
     "execution_count": 51,
     "metadata": {},
     "output_type": "execute_result"
    }
   ],
   "source": [
    "df = pd.read_csv('Data-file-Europe-Power-Sector-2020_Clean01.csv')\n",
    "df.head()"
   ]
  },
  {
   "cell_type": "code",
   "execution_count": 52,
   "metadata": {},
   "outputs": [
    {
     "data": {
      "text/plain": [
       "['Fossil',\n",
       " 'Coal',\n",
       " 'Hard Coal',\n",
       " 'Lignite',\n",
       " 'Gas',\n",
       " 'Other fossil',\n",
       " 'Nuclear',\n",
       " 'Renewables',\n",
       " 'Hydro',\n",
       " 'Wind and solar',\n",
       " 'Wind',\n",
       " 'Solar',\n",
       " 'Bioenergy',\n",
       " 'Other renewables',\n",
       " 'Production',\n",
       " 'Net imports',\n",
       " 'Demand']"
      ]
     },
     "execution_count": 52,
     "metadata": {},
     "output_type": "execute_result"
    }
   ],
   "source": [
    "energy_source = list(df['variable'].unique())\n",
    "# len(energy_source)\n",
    "energy_source"
   ]
  },
  {
   "cell_type": "code",
   "execution_count": 89,
   "metadata": {},
   "outputs": [],
   "source": [
    "overall_energy = ['Renewables', 'Fossil']\n",
    "dirty_energy = []\n",
    "clean_energy = ['Nuclear', 'Hydro', 'Wind', 'Solar', 'Bioenergy', 'Other renewables']\n",
    "other_energy = ['Production', 'Net imports', 'Demand']\n",
    "energy_style = []"
   ]
  },
  {
   "cell_type": "code",
   "execution_count": 73,
   "metadata": {},
   "outputs": [
    {
     "ename": "IndentationError",
     "evalue": "expected an indented block (<ipython-input-73-f15122555723>, line 8)",
     "output_type": "error",
     "traceback": [
      "\u001b[1;36m  File \u001b[1;32m\"<ipython-input-73-f15122555723>\"\u001b[1;36m, line \u001b[1;32m8\u001b[0m\n\u001b[1;33m    print(energy)\u001b[0m\n\u001b[1;37m        ^\u001b[0m\n\u001b[1;31mIndentationError\u001b[0m\u001b[1;31m:\u001b[0m expected an indented block\n"
     ]
    }
   ],
   "source": [
    "#### FOR LOOP TO SPECIFY ENERGY SORCE\n",
    "\n",
    "for energy in energy_source :\n",
    "    if energy in other_energy :\n",
    "        continue\n",
    "    elif energy in clean_energy :\n",
    "        \n",
    "    print(energy)"
   ]
  },
  {
   "cell_type": "code",
   "execution_count": 74,
   "metadata": {},
   "outputs": [
    {
     "data": {
      "text/html": [
       "<div>\n",
       "<style scoped>\n",
       "    .dataframe tbody tr th:only-of-type {\n",
       "        vertical-align: middle;\n",
       "    }\n",
       "\n",
       "    .dataframe tbody tr th {\n",
       "        vertical-align: top;\n",
       "    }\n",
       "\n",
       "    .dataframe thead th {\n",
       "        text-align: right;\n",
       "    }\n",
       "</style>\n",
       "<table border=\"1\" class=\"dataframe\">\n",
       "  <thead>\n",
       "    <tr style=\"text-align: right;\">\n",
       "      <th></th>\n",
       "      <th>year</th>\n",
       "      <th>area</th>\n",
       "      <th>variable</th>\n",
       "      <th>generation_TWh</th>\n",
       "      <th>share_of_production_percent</th>\n",
       "      <th>change_on_last_year_percent</th>\n",
       "      <th>change_on_last_year_TWh</th>\n",
       "    </tr>\n",
       "  </thead>\n",
       "  <tbody>\n",
       "    <tr>\n",
       "      <th>493</th>\n",
       "      <td>2000</td>\n",
       "      <td>United Kingdom</td>\n",
       "      <td>Fossil</td>\n",
       "      <td>279.342000</td>\n",
       "      <td>74.615559</td>\n",
       "      <td>NaN</td>\n",
       "      <td>NaN</td>\n",
       "    </tr>\n",
       "    <tr>\n",
       "      <th>494</th>\n",
       "      <td>2000</td>\n",
       "      <td>United Kingdom</td>\n",
       "      <td>Coal</td>\n",
       "      <td>119.950000</td>\n",
       "      <td>32.040067</td>\n",
       "      <td>NaN</td>\n",
       "      <td>NaN</td>\n",
       "    </tr>\n",
       "    <tr>\n",
       "      <th>495</th>\n",
       "      <td>2000</td>\n",
       "      <td>United Kingdom</td>\n",
       "      <td>Hard Coal</td>\n",
       "      <td>119.950000</td>\n",
       "      <td>32.040067</td>\n",
       "      <td>NaN</td>\n",
       "      <td>NaN</td>\n",
       "    </tr>\n",
       "    <tr>\n",
       "      <th>496</th>\n",
       "      <td>2000</td>\n",
       "      <td>United Kingdom</td>\n",
       "      <td>Lignite</td>\n",
       "      <td>0.000000</td>\n",
       "      <td>0.000000</td>\n",
       "      <td>NaN</td>\n",
       "      <td>NaN</td>\n",
       "    </tr>\n",
       "    <tr>\n",
       "      <th>497</th>\n",
       "      <td>2000</td>\n",
       "      <td>United Kingdom</td>\n",
       "      <td>Gas</td>\n",
       "      <td>148.077000</td>\n",
       "      <td>39.553122</td>\n",
       "      <td>NaN</td>\n",
       "      <td>NaN</td>\n",
       "    </tr>\n",
       "    <tr>\n",
       "      <th>...</th>\n",
       "      <td>...</td>\n",
       "      <td>...</td>\n",
       "      <td>...</td>\n",
       "      <td>...</td>\n",
       "      <td>...</td>\n",
       "      <td>...</td>\n",
       "      <td>...</td>\n",
       "    </tr>\n",
       "    <tr>\n",
       "      <th>10705</th>\n",
       "      <td>2020</td>\n",
       "      <td>United Kingdom</td>\n",
       "      <td>Bioenergy</td>\n",
       "      <td>35.468198</td>\n",
       "      <td>11.610779</td>\n",
       "      <td>4.415895</td>\n",
       "      <td>1.500000</td>\n",
       "    </tr>\n",
       "    <tr>\n",
       "      <th>10706</th>\n",
       "      <td>2020</td>\n",
       "      <td>United Kingdom</td>\n",
       "      <td>Other renewables</td>\n",
       "      <td>0.009298</td>\n",
       "      <td>0.003044</td>\n",
       "      <td>0.000000</td>\n",
       "      <td>0.000000</td>\n",
       "    </tr>\n",
       "    <tr>\n",
       "      <th>10707</th>\n",
       "      <td>2020</td>\n",
       "      <td>United Kingdom</td>\n",
       "      <td>Production</td>\n",
       "      <td>305.476470</td>\n",
       "      <td>NaN</td>\n",
       "      <td>-4.393771</td>\n",
       "      <td>-14.038769</td>\n",
       "    </tr>\n",
       "    <tr>\n",
       "      <th>10708</th>\n",
       "      <td>2020</td>\n",
       "      <td>United Kingdom</td>\n",
       "      <td>Net imports</td>\n",
       "      <td>18.213088</td>\n",
       "      <td>NaN</td>\n",
       "      <td>-13.597032</td>\n",
       "      <td>-2.866151</td>\n",
       "    </tr>\n",
       "    <tr>\n",
       "      <th>10709</th>\n",
       "      <td>2020</td>\n",
       "      <td>United Kingdom</td>\n",
       "      <td>Demand</td>\n",
       "      <td>323.689558</td>\n",
       "      <td>NaN</td>\n",
       "      <td>-4.963357</td>\n",
       "      <td>-16.904920</td>\n",
       "    </tr>\n",
       "  </tbody>\n",
       "</table>\n",
       "<p>850 rows × 7 columns</p>\n",
       "</div>"
      ],
      "text/plain": [
       "       year            area          variable  generation_TWh  \\\n",
       "493    2000  United Kingdom            Fossil      279.342000   \n",
       "494    2000  United Kingdom              Coal      119.950000   \n",
       "495    2000  United Kingdom         Hard Coal      119.950000   \n",
       "496    2000  United Kingdom           Lignite        0.000000   \n",
       "497    2000  United Kingdom               Gas      148.077000   \n",
       "...     ...             ...               ...             ...   \n",
       "10705  2020  United Kingdom         Bioenergy       35.468198   \n",
       "10706  2020  United Kingdom  Other renewables        0.009298   \n",
       "10707  2020  United Kingdom        Production      305.476470   \n",
       "10708  2020  United Kingdom       Net imports       18.213088   \n",
       "10709  2020  United Kingdom            Demand      323.689558   \n",
       "\n",
       "       share_of_production_percent  change_on_last_year_percent  \\\n",
       "493                      74.615559                          NaN   \n",
       "494                      32.040067                          NaN   \n",
       "495                      32.040067                          NaN   \n",
       "496                       0.000000                          NaN   \n",
       "497                      39.553122                          NaN   \n",
       "...                            ...                          ...   \n",
       "10705                    11.610779                     4.415895   \n",
       "10706                     0.003044                     0.000000   \n",
       "10707                          NaN                    -4.393771   \n",
       "10708                          NaN                   -13.597032   \n",
       "10709                          NaN                    -4.963357   \n",
       "\n",
       "       change_on_last_year_TWh  \n",
       "493                        NaN  \n",
       "494                        NaN  \n",
       "495                        NaN  \n",
       "496                        NaN  \n",
       "497                        NaN  \n",
       "...                        ...  \n",
       "10705                 1.500000  \n",
       "10706                 0.000000  \n",
       "10707               -14.038769  \n",
       "10708                -2.866151  \n",
       "10709               -16.904920  \n",
       "\n",
       "[850 rows x 7 columns]"
      ]
     },
     "execution_count": 74,
     "metadata": {},
     "output_type": "execute_result"
    }
   ],
   "source": [
    "df[(df['year'] == 2020) | (df['area'] == 'United Kingdom')]#['share_of_production_percent'].sum()"
   ]
  },
  {
   "cell_type": "code",
   "execution_count": 86,
   "metadata": {},
   "outputs": [
    {
     "data": {
      "image/png": "[encoded data removed]",
      "text/plain": [
       "<Figure size 432x288 with 1 Axes>"
      ]
     },
     "metadata": {
      "needs_background": "light"
     },
     "output_type": "display_data"
    }
   ],
   "source": [
    "temp_df = df[(df['year'] == 2020) & (df['area'] == 'United Kingdom') & (df['variable'].isin(overall_energy))]\n",
    "plt.bar(temp_df['variable'], temp_df['generation_TWh'])\n",
    "plt.title('country')\n",
    "plt.show()\n"
   ]
  },
  {
   "cell_type": "code",
   "execution_count": 93,
   "metadata": {},
   "outputs": [
    {
     "data": {
      "image/png": "[encoded data removed]",
      "text/plain": [
       "<Figure size 432x288 with 1 Axes>"
      ]
     },
     "metadata": {
      "needs_background": "light"
     },
     "output_type": "display_data"
    }
   ],
   "source": [
    "country = 'United Kingdom'\n",
    "temp_df = df[(df['year'] == 2020) & (df['area'] == country) & (df['variable'].isin(clean_energy))]\n",
    "plt.bar(temp_df['variable'], temp_df['generation_TWh'])\n",
    "plt.title(country, fontweight = 'bold')\n",
    "plt.show()"
   ]
  },
  {
   "cell_type": "code",
   "execution_count": null,
   "metadata": {},
   "outputs": [],
   "source": []
  }
 ],
 "metadata": {
  "kernelspec": {
   "display_name": "Python 3",
   "language": "python",
   "name": "python3"
  },
  "language_info": {
   "codemirror_mode": {
    "name": "ipython",
    "version": 3
   },
   "file_extension": ".py",
   "mimetype": "text/x-python",
   "name": "python",
   "nbconvert_exporter": "python",
   "pygments_lexer": "ipython3",
   "version": "3.7.6"
  }
 },
 "nbformat": 4,
 "nbformat_minor": 4
}
